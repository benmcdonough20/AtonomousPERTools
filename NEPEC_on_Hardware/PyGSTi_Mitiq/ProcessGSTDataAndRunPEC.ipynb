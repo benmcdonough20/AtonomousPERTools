{
 "cells": [
  {
   "cell_type": "markdown",
   "metadata": {},
   "source": [
    "# Integration of PyGSTi (gate set tomography) with Mitiq (PEC)\n",
    "The purpose of this notebook is to use the data collected from a gate set tomography (GST) experiment that has been saved into the `rigetti_first_run` directory and perform GST on it. \n",
    "\n",
    "The tomographic results are used to apply error mitigation via the probabilistic error cancellation (PEC) module of Mitiq.\n",
    "\n",
    "This code was mostly taken from the tutorial notebook [UnitaryFundDemoNotebook1.ipynb\n",
    "](https://zenodo.org/record/5715199#.Yr_TOUjMLJF). "
   ]
  },
  {
   "cell_type": "code",
   "execution_count": 29,
   "metadata": {},
   "outputs": [],
   "source": [
    "# PyGSTi tools\n",
    "import pygsti\n",
    "from pygsti.modelpacks import smq1Q_XZ\n",
    "\n",
    "# Mitiq tools\n",
    "from mitiq.pec import NoisyOperation, NoisyBasis, execute_with_pec\n",
    "from mitiq.pec.representations.optimal import find_optimal_representation\n",
    "\n",
    "import numpy as np\n",
    "\n",
    "# Qiskit tools for mapping Pauli transfer matrices to superoperators.\n",
    "from qiskit.quantum_info import PTM, SuperOp\n",
    "\n",
    "# Cirq library used as a frontend for interfacing Mitiq and for simulations\n",
    "import cirq"
   ]
  },
  {
   "cell_type": "markdown",
   "metadata": {},
   "source": [
    "## Settings\n",
    "\n",
    "If `RUN_GST_IMPOSING_NOISELESS_RZ` is `False`, standard GST is performed without constraints.\n",
    "\n",
    "If `RUN_GST_IMPOSING_NOISELESS_RZ` is `True`, GST is performed assuming `Rz` rotations are noiseless."
   ]
  },
  {
   "cell_type": "code",
   "execution_count": 57,
   "metadata": {},
   "outputs": [],
   "source": [
    "RUN_GST_IMPOSING_NOISELESS_RZ = False\n",
    "\n",
    "# Make numpy matrices easier to read\n",
    "np.set_printoptions(precision=3, suppress=True)"
   ]
  },
  {
   "cell_type": "markdown",
   "metadata": {},
   "source": [
    "## Read data from experiment\n",
    "We load data that was previously created by the `get_gst_data.ipynb` notebook."
   ]
  },
  {
   "cell_type": "code",
   "execution_count": 31,
   "metadata": {},
   "outputs": [],
   "source": [
    "data = pygsti.io.read_data_from_dir('experiment_data/rigetti_first_run')"
   ]
  },
  {
   "cell_type": "markdown",
   "metadata": {},
   "source": [
    "## Run gate set tomography (GST)\n",
    "\n",
    "\n",
    "We apply GST to the raw experimental data to obtain the Pauli transfer matrices associated to the gates $R_X(\\pi/2)$ and $R_Z(\\pi/2)$.\n",
    "\n",
    "If `RUN_GST_IMPOSING_NOISELESS_RZ` is `True` we also impose Rz rotations to be noiseless by following a procedure adapted from page 3 of https://arxiv.org/abs/2002.12476."
   ]
  },
  {
   "cell_type": "code",
   "execution_count": 32,
   "metadata": {},
   "outputs": [
    {
     "name": "stdout",
     "output_type": "stream",
     "text": [
      "-- Std Practice:  Iter 1 of 1  (CPTP) --: \n",
      "  --- Iterative GST: [########------------------------------------------] 16.67%  96 circuits ---\r"
     ]
    },
    {
     "name": "stderr",
     "output_type": "stream",
     "text": [
      "\n",
      "WARNING: Treating result as *converged* after maximum iterations (100) were exceeded.\n"
     ]
    },
    {
     "name": "stdout",
     "output_type": "stream",
     "text": [
      "  --- Iterative GST: [##################################################] 100.0%  550 circuits ---\n",
      "  Iterative GST Total Time: 21.4s\n"
     ]
    }
   ],
   "source": [
    "if not RUN_GST_IMPOSING_NOISELESS_RZ:\n",
    "    gst_protocol = pygsti.protocols.StandardGST('CPTP')\n",
    "    # Run GST\n",
    "    results = gst_protocol.run(data)\n",
    "    # Get model\n",
    "    model = results.estimates['CPTP'].models['stdgaugeopt']\n",
    "else:\n",
    "    # Define a noiseless Rz(pi/2) operator.\n",
    "    initial_model = smq1Q_XZ.target_model()\n",
    "    initial_model.set_all_parameterizations(\"CPTP\")\n",
    "    rz_matrix = initial_model[('Gzpi2',0)].to_dense()\n",
    "    dense_rz = pygsti.modelmembers.operations.DenseOperator(rz_matrix, evotype=\"default\")\n",
    "    # Enforce a noisless Rz(pi/2) gate.\n",
    "    initial_model[('Gzpi2',0)] = dense_rz.copy()\n",
    "    # Run GST\n",
    "    results = pygsti.protocols.GST(initial_model, gaugeopt_suite=None).run(data)\n",
    "    # Get model\n",
    "    model = results.estimates['GateSetTomography'].models['final iteration estimate']"
   ]
  },
  {
   "cell_type": "code",
   "execution_count": 33,
   "metadata": {},
   "outputs": [
    {
     "name": "stdout",
     "output_type": "stream",
     "text": [
      "Rx Pauli transfer matrix:\n",
      " [[ 1.     0.     0.     0.   ]\n",
      " [ 0.007  0.991  0.033 -0.034]\n",
      " [-0.002 -0.027  0.013 -0.977]\n",
      " [-0.003 -0.029  0.976  0.011]]\n",
      "Rz Pauli transfer matrix:\n",
      " [[ 1.     0.     0.     0.   ]\n",
      " [ 0.    -0.    -0.996 -0.031]\n",
      " [-0.     1.    -0.001  0.031]\n",
      " [ 0.    -0.031 -0.031  0.996]]\n"
     ]
    }
   ],
   "source": [
    "print(\"Rx Pauli transfer matrix:\\n\", model.operations[('Gxpi2', 0)].to_dense())\n",
    "print(\"Rz Pauli transfer matrix:\\n\", model.operations[('Gzpi2', 0)].to_dense())"
   ]
  },
  {
   "cell_type": "markdown",
   "metadata": {},
   "source": [
    "## Get noisy superoperators\n",
    "\n",
    "We convert the estimated Pauli transfer matrices into superoperator matrices. Superoperator matrices are equivalent representations of the noisy gates which are more suitable for applying PEC with Mitiq."
   ]
  },
  {
   "cell_type": "code",
   "execution_count": 35,
   "metadata": {},
   "outputs": [
    {
     "name": "stdout",
     "output_type": "stream",
     "text": [
      "Rx Pauli transfer matrix:\n",
      " [[ 0.504-0.j    -0.015+0.488j -0.015-0.488j  0.493-0.j   ]\n",
      " [-0.014+0.489j  0.502+0.03j   0.489-0.003j  0.021-0.487j]\n",
      " [-0.014-0.489j  0.489+0.003j  0.502-0.03j   0.021+0.487j]\n",
      " [ 0.496-0.j     0.015-0.488j  0.015+0.488j  0.507-0.j   ]]\n",
      "Rz Pauli transfer matrix:\n",
      " [[ 0.998-0.j    -0.015-0.015j -0.015+0.015j  0.002-0.j   ]\n",
      " [-0.015-0.015j -0.001-0.998j  0.   -0.002j  0.015+0.015j]\n",
      " [-0.015+0.015j  0.   +0.002j -0.001+0.998j  0.015-0.015j]\n",
      " [ 0.002-0.j     0.015+0.015j  0.015-0.015j  0.998-0.j   ]]\n"
     ]
    }
   ],
   "source": [
    "# Convert Pauli transfer matrix to superoperator\n",
    "superop_rx = SuperOp(PTM(model.operations[('Gxpi2', 0)].to_dense())).data.conj()  # conj depends on convention\n",
    "superop_rz = SuperOp(PTM(model.operations[('Gzpi2', 0)].to_dense())).data.conj()  # conj depends on convention\n",
    "\n",
    "print(\"Noisy Rx superoperator matrix:\\n\", superop_rx)\n",
    "print(\"Noisu Rz superoperator matrix:\\n\", superop_rz)\n"
   ]
  },
  {
   "cell_type": "markdown",
   "metadata": {},
   "source": [
    "## Get ideal superoperators.\n",
    "\n",
    "We also define the superoperator matrices corresponding to the ideal gates."
   ]
  },
  {
   "cell_type": "code",
   "execution_count": 39,
   "metadata": {},
   "outputs": [
    {
     "name": "stdout",
     "output_type": "stream",
     "text": [
      "Noisless Rx superoperator matrix:\n",
      " [[0.5+0.j  0. +0.5j 0. -0.5j 0.5+0.j ]\n",
      " [0. +0.5j 0.5+0.j  0.5+0.j  0. -0.5j]\n",
      " [0. -0.5j 0.5+0.j  0.5+0.j  0. +0.5j]\n",
      " [0.5+0.j  0. -0.5j 0. +0.5j 0.5+0.j ]]\n",
      "Noisless Rz superoperator matrix:\n",
      " [[1.+0.j 0.+0.j 0.+0.j 0.+0.j]\n",
      " [0.+0.j 0.-1.j 0.+0.j 0.+0.j]\n",
      " [0.+0.j 0.+0.j 0.+1.j 0.+0.j]\n",
      " [0.+0.j 0.+0.j 0.+0.j 1.+0.j]]\n"
     ]
    }
   ],
   "source": [
    "# Create ideal operations as Cirq circuits\n",
    "cirq_rx = cirq.Circuit(cirq.rx(np.pi / 2).on(cirq.LineQubit(0)))\n",
    "cirq_rz = cirq.Circuit(cirq.rz(np.pi / 2).on(cirq.LineQubit(0)))\n",
    "\n",
    "# Get ideal superoperators\n",
    "superop_rx_cirq = cirq.kraus_to_superoperator(cirq.kraus(cirq_rx))\n",
    "superop_rz_cirq = cirq.kraus_to_superoperator(cirq.kraus(cirq_rz))\n",
    "\n",
    "print(\"Noisless Rx superoperator matrix:\\n\", superop_rx_cirq)\n",
    "print(\"Noisless Rz superoperator matrix:\\n\", superop_rz_cirq)"
   ]
  },
  {
   "cell_type": "markdown",
   "metadata": {},
   "source": [
    "## Define the basis of noisy operations\n",
    "\n",
    "We now define a `mitiq.pec.NoisyBasis`, i.e. a basis of noisy gate sequences that will be used to represent ideal operations in PEC."
   ]
  },
  {
   "cell_type": "code",
   "execution_count": 40,
   "metadata": {},
   "outputs": [
    {
     "name": "stdout",
     "output_type": "stream",
     "text": [
      "Sequeces of noisy operations to be used as a basis for PEC:\n",
      "0: ───Rx(0.5π)───Rx(0.5π)───\n",
      "0: ───Rx(0.5π)───Rz(0.5π)───Rx(0.5π)───\n",
      "0: ───Rx(0.5π)───Rx(0.5π)───Rz(0.5π)───\n",
      "0: ───Rx(0.5π)───Rx(0.5π)───Rx(0.5π)───\n",
      "0: ───Rx(0.5π)───Rz(0.5π)───Rz(0.5π)───\n",
      "0: ───Rx(0.5π)───Rz(0.5π)───Rz(0.5π)───Rx(0.5π)───\n",
      "0: ───Rx(0.5π)───Rx(0.5π)───Rz(0.5π)───Rz(0.5π)───\n",
      "0: ───Rz(0.5π)───Rz(0.5π)───\n",
      "0: ───Rx(0.5π)───\n",
      "0: ───Rz(0.5π)───Rx(0.5π)───Rx(0.5π)───\n",
      "0: ───Rz(0.5π)───Rz(0.5π)───Rx(0.5π)───Rx(0.5π)───\n",
      "0: ───Rx(0.5π)───Rx(0.5π)───Rz(0.5π)───Rx(0.5π)───\n",
      "0: ───Rx(0.5π)───Rz(0.5π)───Rx(0.5π)───Rx(0.5π)───\n",
      "0: ───Rz(0.5π)───Rz(0.5π)───Rz(0.5π)───Rx(0.5π)───\n",
      "0: ───Rx(0.5π)───Rz(0.5π)───Rz(0.5π)───Rz(0.5π)───\n",
      "0: ───Rz(0.5π)───Rz(0.5π)───Rz(0.5π)───Rz(0.5π)───\n",
      "0: ───Rz(0.5π)───Rz(0.5π)───Rx(0.5π)───Rz(0.5π)───\n",
      "0: ───Rz(0.5π)───Rx(0.5π)───\n",
      "0: ───Rz(0.5π)───Rz(0.5π)───Rz(0.5π)───\n",
      "0: ───Rx(0.5π)───Rx(0.5π)───Rx(0.5π)───Rz(0.5π)───\n",
      "0: ───Rx(0.5π)───Rx(0.5π)───Rx(0.5π)───Rx(0.5π)───\n",
      "0: ───Rz(0.5π)───Rx(0.5π)───Rz(0.5π)───\n",
      "0: ───Rz(0.5π)───Rx(0.5π)───Rz(0.5π)───Rx(0.5π)───\n",
      "0: ───Rz(0.5π)───Rz(0.5π)───Rx(0.5π)───\n",
      "0: ───Rx(0.5π)───Rz(0.5π)───Rx(0.5π)───Rz(0.5π)───\n",
      "0: ───Rz(0.5π)───\n",
      "0: ───Rz(0.5π)───Rx(0.5π)───Rx(0.5π)───Rx(0.5π)───\n",
      "0: ───Rx(0.5π)───Rz(0.5π)───\n",
      "0: ───Rz(0.5π)───Rx(0.5π)───Rz(0.5π)───Rz(0.5π)───\n",
      "0: ───Rz(0.5π)───Rx(0.5π)───Rx(0.5π)───Rz(0.5π)───\n"
     ]
    }
   ],
   "source": [
    "# Create noisy operations as Mitiq NoisyOperation objects\n",
    "mitiq_noisy_rx = NoisyOperation(cirq_rx, superop_rx)\n",
    "mitiq_noisy_rz = NoisyOperation(cirq_rz, superop_rz)\n",
    "\n",
    "# Combine into basis object\n",
    "base_noisy_basis = NoisyBasis(mitiq_noisy_rx, mitiq_noisy_rz)\n",
    "\n",
    "# Extend basis to squences of noisy gates\n",
    "noisy_basis = NoisyBasis(\n",
    "    *base_noisy_basis.get_sequences(1),\n",
    "    *base_noisy_basis.get_sequences(2),\n",
    "    *base_noisy_basis.get_sequences(3),\n",
    "    *base_noisy_basis.get_sequences(4),\n",
    "    # *base_noisy_basis.get_sequences(5),   \n",
    "    # *base_noisy_basis.get_sequences(6),   \n",
    ")\n",
    "\n",
    "print(\"Sequeces of noisy operations to be used as a basis for PEC:\")\n",
    "for elem in noisy_basis.elements:\n",
    "    print(elem)"
   ]
  },
  {
   "cell_type": "markdown",
   "metadata": {},
   "source": [
    "## Compute optimal representation\n",
    "\n",
    "We now use Mitiq to obtain an optimal quasi-probability representation of the noiseless $R_x(\\pi/2)$ as a linear combination of the noisy operations printed above."
   ]
  },
  {
   "cell_type": "code",
   "execution_count": 46,
   "metadata": {},
   "outputs": [
    {
     "name": "stdout",
     "output_type": "stream",
     "text": [
      "0: ───Rx(0.5π)─── = 0.035*(0: ───Rx(0.5π)───Rz(0.5π)───Rx(0.5π)───)-0.013*(0: ───Rx(0.5π)───Rx(0.5π)───Rx(0.5π)───)-0.017*(0: ───Rx(0.5π)───Rz(0.5π)───Rz(0.5π)───Rx(0.5π)───)+0.003*(0: ───Rx(0.5π)───Rx(0.5π)───Rz(0.5π)───Rz(0.5π)───)+1.002*(0: ───Rx(0.5π)───)+0.058*(0: ───Rx(0.5π)───Rx(0.5π)───Rz(0.5π)───Rx(0.5π)───)-0.004*(0: ───Rz(0.5π)───Rz(0.5π)───Rz(0.5π)───Rx(0.5π)───)+0.190*(0: ───Rz(0.5π)───Rz(0.5π)───Rz(0.5π)───Rz(0.5π)───)-0.206*(0: ───Rx(0.5π)───Rx(0.5π)───Rx(0.5π)───Rx(0.5π)───)-0.004*(0: ───Rz(0.5π)───Rz(0.5π)───Rx(0.5π)───)+0.019*(0: ───Rz(0.5π)───)-0.063*(0: ───Rz(0.5π)───Rx(0.5π)───Rz(0.5π)───Rz(0.5π)───)\n",
      "\n",
      "PEC overhead parameter:  1.6131640702970076\n"
     ]
    }
   ],
   "source": [
    "# Get a representation with minimum PEC overhead parameter.\n",
    "optimal_rep = find_optimal_representation(cirq_rx, noisy_basis, tol=.001)\n",
    "\n",
    "print(optimal_rep)\n",
    "print(\"\\nPEC overhead parameter: \", optimal_rep.norm) # Hopefully close to 1"
   ]
  },
  {
   "cell_type": "markdown",
   "metadata": {},
   "source": [
    "Let's verify that the liner combination of noisy channels defined by `optimal_rep` reproduces the ideal  channel $R_x(\\pi/2)$ as expected."
   ]
  },
  {
   "cell_type": "code",
   "execution_count": 56,
   "metadata": {},
   "outputs": [
    {
     "name": "stdout",
     "output_type": "stream",
     "text": [
      "Approximated Rx superoperator:\n",
      "[[ 0.499+0.j     0.001+0.499j  0.001-0.499j  0.499-0.j   ]\n",
      " [ 0.001+0.501j  0.499+0.001j  0.499-0.001j  0.001-0.499j]\n",
      " [ 0.001-0.501j  0.499+0.001j  0.499-0.001j  0.001+0.499j]\n",
      " [ 0.501-0.j    -0.001-0.499j -0.001+0.499j  0.501+0.j   ]]\n",
      "\n",
      "Ideal Rx superoperator:\n",
      "[[0.5+0.j  0. +0.5j 0. -0.5j 0.5+0.j ]\n",
      " [0. +0.5j 0.5+0.j  0.5+0.j  0. -0.5j]\n",
      " [0. -0.5j 0.5+0.j  0.5+0.j  0. +0.5j]\n",
      " [0.5+0.j  0. -0.5j 0. +0.5j 0.5+0.j ]]\n"
     ]
    }
   ],
   "source": [
    "basis_matrices = [m.channel_matrix for m in optimal_rep.noisy_operations]\n",
    "represented_rx = sum(m * coeff for (m, coeff) in zip(basis_matrices, optimal_rep.coeffs))\n",
    "print(\"Approximated Rx superoperator:\")\n",
    "print(represented_rx)\n",
    "print(\"\\nIdeal Rx superoperator:\")\n",
    "print(superop_rx_cirq)"
   ]
  },
  {
   "cell_type": "markdown",
   "metadata": {},
   "source": [
    "## Define a Mitiq executor\n",
    "\n",
    "In order to apply PEC with Mitiq we need to define an executor, i.e. a function mapping circuits to expectation values. Actually, in this example, we define two executors corresponding to two different simulation methods:\n",
    "\n",
    "- `cirq_executor` uses Cirq to simulate noisy circuits assuming perfect measurements, such that the effect of PEC is more evident.\n",
    "- `pygsti_executor` uses PyGSTi to simulate noisy circuits assuming noisy measurements. This executor provides a more accurate simulation of the real hardware."
   ]
  },
  {
   "cell_type": "code",
   "execution_count": 12,
   "metadata": {},
   "outputs": [],
   "source": [
    "# Helper functions\n",
    "\n",
    "def ideal_to_noisy_circuit(ideal_circuit):\n",
    "    noisy_rx = cirq.KrausChannel(cirq.superoperator_to_kraus(superop_rx)).on(cirq.LineQubit(0))\n",
    "    noisy_rz = cirq.KrausChannel(cirq.superoperator_to_kraus(superop_rz)).on(cirq.LineQubit(0))\n",
    "\n",
    "    noisy_circuit = cirq.Circuit()\n",
    "    for op in ideal_circuit.all_operations():\n",
    "        if op.gate == cirq.rx(np.pi / 2):\n",
    "            noisy_circuit.append(noisy_rx)\n",
    "        elif op.gate == cirq.rz(np.pi / 2):\n",
    "            noisy_circuit.append(noisy_rz)\n",
    "        else:\n",
    "            print(\"Error:\", op)\n",
    "\n",
    "    return noisy_circuit\n",
    "\n",
    "def cirq_to_pygsti(ideal_circuit: cirq.Circuit):\n",
    "    pygsti_ops = []\n",
    "    for op in ideal_circuit.all_operations(): \n",
    "        if op.gate == cirq.rx(np.pi / 2):\n",
    "            pygsti_ops.append(('Gxpi2',0))\n",
    "        elif op.gate == cirq.rz(np.pi / 2):\n",
    "            pygsti_ops.append(('Gzpi2',0))\n",
    "        else:\n",
    "            print(\"Error: impossible to simulate operation\", op)\n",
    "\n",
    "    return pygsti.circuits.Circuit(pygsti_ops, line_labels=[0])"
   ]
  },
  {
   "cell_type": "code",
   "execution_count": 64,
   "metadata": {},
   "outputs": [],
   "source": [
    "# Executors returning the expectation value of of the observable A = |1><1|\n",
    "\n",
    "def cirq_executor(circuit):\n",
    "    \"\"\"Returns the expectation value of the observable A = |1><1|\"\"\"\n",
    "    noisy_circuit = ideal_to_noisy_circuit(circuit)\n",
    "    rho = cirq.DensityMatrixSimulator().simulate(noisy_circuit).final_density_matrix\n",
    "    return rho[1, 1].real\n",
    "\n",
    "def pygsti_executor(circuit):\n",
    "    \"\"\"Returns the expectation value of the observable A = |1><1|\"\"\"\n",
    "    noisy_circuit = cirq_to_pygsti(circuit)\n",
    "    probs = model.probabilities(noisy_circuit)\n",
    "    return probs[\"1\"]"
   ]
  },
  {
   "cell_type": "markdown",
   "metadata": {},
   "source": [
    "## Define circuit to mitigate"
   ]
  },
  {
   "cell_type": "markdown",
   "metadata": {},
   "source": [
    "## Estimate an expectation value without error mitigation\n",
    "\n",
    "We first define a simple circuit of depth 2, corresponding to the bit flip unitary $X = R_X(\\pi/2)^2$. The ideal expectation value of the test observable $A=|1\\rangle\\langle 1|$ is equal to 1. "
   ]
  },
  {
   "cell_type": "code",
   "execution_count": 63,
   "metadata": {},
   "outputs": [
    {
     "data": {
      "text/html": [
       "<pre style=\"overflow: auto; white-space: pre;\">0: ───Rx(0.5π)───Rx(0.5π)───</pre>"
      ],
      "text/plain": [
       "0: ───Rx(0.5π)───Rx(0.5π)───"
      ]
     },
     "execution_count": 63,
     "metadata": {},
     "output_type": "execute_result"
    }
   ],
   "source": [
    "bit_flip_circuit =  2 * cirq_rx\n",
    "bit_flip_circuit"
   ]
  },
  {
   "cell_type": "markdown",
   "metadata": {},
   "source": [
    "The noisy unmitigated expectation value can be obtained by calling the noisy executor(s)."
   ]
  },
  {
   "cell_type": "code",
   "execution_count": 16,
   "metadata": {},
   "outputs": [
    {
     "data": {
      "text/plain": [
       "0.9787803"
      ]
     },
     "execution_count": 16,
     "metadata": {},
     "output_type": "execute_result"
    }
   ],
   "source": [
    "# Cirq simulation without measurement errors\n",
    "cirq_executor(bit_flip_circuit)"
   ]
  },
  {
   "cell_type": "code",
   "execution_count": 17,
   "metadata": {},
   "outputs": [
    {
     "data": {
      "text/plain": [
       "0.8251257027477169"
      ]
     },
     "execution_count": 17,
     "metadata": {},
     "output_type": "execute_result"
    }
   ],
   "source": [
    "# PyGSTi simulation with measurement errors\n",
    "pygsti_executor(bit_flip_circuit)"
   ]
  },
  {
   "cell_type": "markdown",
   "metadata": {},
   "source": [
    "## Apply PEC"
   ]
  },
  {
   "cell_type": "code",
   "execution_count": 18,
   "metadata": {},
   "outputs": [
    {
     "data": {
      "text/plain": [
       "0.9919102353241187"
      ]
     },
     "execution_count": 18,
     "metadata": {},
     "output_type": "execute_result"
    }
   ],
   "source": [
    "# PEC without measurement errors\n",
    "execute_with_pec(bit_flip_circuit, cirq_executor, representations=(optimal_rep, ), random_state=0, num_samples=10000)"
   ]
  },
  {
   "cell_type": "code",
   "execution_count": 19,
   "metadata": {},
   "outputs": [
    {
     "data": {
      "text/plain": [
       "0.8358617831940299"
      ]
     },
     "execution_count": 19,
     "metadata": {},
     "output_type": "execute_result"
    }
   ],
   "source": [
    "# PEC with measurement errors\n",
    "execute_with_pec(bit_flip_circuit, pygsti_executor, representations=(optimal_rep, ), random_state=0, num_samples=10000)"
   ]
  },
  {
   "cell_type": "markdown",
   "metadata": {},
   "source": [
    "## Conclusions"
   ]
  },
  {
   "cell_type": "markdown",
   "metadata": {},
   "source": [
    "From the above results we can see that PEC improved the estimation of the expectation value for both simulation methods.\n",
    "However, in the presence of measurement errors, the effect of PEC is less evident. This is not surprising since the PEC method applied in this tutorial only mitigates gate errors. \n",
    "\n",
    "In principle PEC could be extended in such a way to mitigate measurement errors by including the noisy POVMs obtained from GST in the basis of noisy operators for PEC.  This is however beyond the scope of this tutorial and, moreover, this is currently not supported in Mitiq.\n",
    "\n",
    "We also note that instead of applying PEC for mitigating measurement errors, one could also apply other  readout error mitigation techniques like, e.g., those in the ` mitiq.rem` module."
   ]
  }
 ],
 "metadata": {
  "kernelspec": {
   "display_name": "Python 3",
   "language": "python",
   "name": "python3"
  },
  "language_info": {
   "codemirror_mode": {
    "name": "ipython",
    "version": 3
   },
   "file_extension": ".py",
   "mimetype": "text/x-python",
   "name": "python",
   "nbconvert_exporter": "python",
   "pygments_lexer": "ipython3",
   "version": "3.7.7"
  },
  "vscode": {
   "interpreter": {
    "hash": "c7c859f551ac771d7ec7b66508341cbf372a533465b4e32d787c7352e7a7fb68"
   }
  }
 },
 "nbformat": 4,
 "nbformat_minor": 4
}
